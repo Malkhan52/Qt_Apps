{
 "cells": [
  {
   "cell_type": "code",
   "execution_count": 1,
   "metadata": {},
   "outputs": [
    {
     "ename": "SystemExit",
     "evalue": "0",
     "output_type": "error",
     "traceback": [
      "An exception has occurred, use %tb to see the full traceback.\n",
      "\u001b[0;31mSystemExit\u001b[0m\u001b[0;31m:\u001b[0m 0\n"
     ]
    },
    {
     "name": "stderr",
     "output_type": "stream",
     "text": [
      "/home/mirror/anaconda3/lib/python3.7/site-packages/IPython/core/interactiveshell.py:2969: UserWarning: To exit: use 'exit', 'quit', or Ctrl-D.\n",
      "  warn(\"To exit: use 'exit', 'quit', or Ctrl-D.\", stacklevel=1)\n"
     ]
    }
   ],
   "source": [
    "import sys\n",
    "from PyQt5.QtWidgets import QApplication, QWidget\n",
    "from PyQt5.QtGui import QIcon\n",
    "\n",
    "class App(QWidget):\n",
    "    def __init__(self):\n",
    "        super().__init__()\n",
    "        self.title = 'PyQt5 simple window'\n",
    "        self.left = 10\n",
    "        self.top = 10\n",
    "        self.width = 640\n",
    "        self.height = 480\n",
    "        self.initUI()\n",
    "        \n",
    "    def initUI(self):\n",
    "        self.setWindowTitle(self.title)\n",
    "        self.setGeometry(self.left, self.top, self.width, self.height)\n",
    "        self.show()\n",
    "if __name__ == '__main__':\n",
    "    app = QApplication(sys.argv)\n",
    "    ex = App()\n",
    "    sys.exit(app.exec_())"
   ]
  },
  {
   "cell_type": "code",
   "execution_count": 1,
   "metadata": {},
   "outputs": [
    {
     "ename": "SystemExit",
     "evalue": "0",
     "output_type": "error",
     "traceback": [
      "An exception has occurred, use %tb to see the full traceback.\n",
      "\u001b[0;31mSystemExit\u001b[0m\u001b[0;31m:\u001b[0m 0\n"
     ]
    },
    {
     "name": "stderr",
     "output_type": "stream",
     "text": [
      "/home/mirror/anaconda3/lib/python3.7/site-packages/IPython/core/interactiveshell.py:2969: UserWarning: To exit: use 'exit', 'quit', or Ctrl-D.\n",
      "  warn(\"To exit: use 'exit', 'quit', or Ctrl-D.\", stacklevel=1)\n"
     ]
    }
   ],
   "source": [
    "import sys\n",
    "from PyQt5.QtWidgets import QApplication, QWidget, QMainWindow\n",
    "from PyQt5.QtGui import QIcon\n",
    "\n",
    "class App(QMainWindow):\n",
    "    def __init__(self):\n",
    "        super().__init__()\n",
    "        self.title = 'PyQt5 status bar example'\n",
    "        self.left = 10 # 10 pixels left from top left corner of main(system) window(screen)\n",
    "        self.top = 10  # 10 pixels top from top left corner of main(system) window(screen)\n",
    "        self.width = 640\n",
    "        self.height = 480\n",
    "        self.initUI()\n",
    "        \n",
    "    def initUI(self):\n",
    "        self.setWindowTitle(self.title)\n",
    "        self.setGeometry(self.left, self.top, self.width, self.height)\n",
    "        self.statusBar().showMessage('Message in statusbar.')\n",
    "        self.show()\n",
    "if __name__=='__main__':\n",
    "    app = QApplication(sys.argv)\n",
    "    ex = App()\n",
    "    sys.exit(app.exec_())"
   ]
  },
  {
   "cell_type": "code",
   "execution_count": 1,
   "metadata": {},
   "outputs": [
    {
     "name": "stdout",
     "output_type": "stream",
     "text": [
      "PyQt5 button click\n",
      "PyQt5 button click\n",
      "PyQt5 button click\n",
      "PyQt5 button click\n",
      "PyQt5 button click\n"
     ]
    },
    {
     "ename": "SystemExit",
     "evalue": "0",
     "output_type": "error",
     "traceback": [
      "An exception has occurred, use %tb to see the full traceback.\n",
      "\u001b[0;31mSystemExit\u001b[0m\u001b[0;31m:\u001b[0m 0\n"
     ]
    },
    {
     "name": "stderr",
     "output_type": "stream",
     "text": [
      "/home/mirror/anaconda3/lib/python3.7/site-packages/IPython/core/interactiveshell.py:2969: UserWarning: To exit: use 'exit', 'quit', or Ctrl-D.\n",
      "  warn(\"To exit: use 'exit', 'quit', or Ctrl-D.\", stacklevel=1)\n"
     ]
    }
   ],
   "source": [
    "import sys\n",
    "from PyQt5.QtWidgets import QApplication, QWidget, QPushButton\n",
    "from PyQt5.QtGui import QIcon\n",
    "from PyQt5.QtCore import pyqtSlot\n",
    "\n",
    "class App(QWidget):\n",
    "    def __init__(self):\n",
    "        super().__init__()\n",
    "        self.title = 'PyQt5 button example'\n",
    "        self.left = 10\n",
    "        self.top = 10\n",
    "        self.width = 320\n",
    "        self.height = 200\n",
    "        self.initUI()\n",
    "    def initUI(self):\n",
    "        self.setWindowTitle(self.title)\n",
    "        self.setGeometry(self.left, self.top, self.width, self.height)\n",
    "        \n",
    "        button = QPushButton('PyQt5 button',self)\n",
    "        button.setToolTip('This is an example')\n",
    "        button.move(100,70)\n",
    "        button.clicked.connect(self.on_click)\n",
    "        \n",
    "        self.show()\n",
    "        \n",
    "    @pyqtSlot()\n",
    "    def on_click(self):\n",
    "        print('PyQt5 button click')\n",
    "\n",
    "if __name__=='__main__':\n",
    "    app = QApplication(sys.argv)\n",
    "    ex = App()\n",
    "    sys.exit(app.exec_())\n"
   ]
  },
  {
   "cell_type": "code",
   "execution_count": 1,
   "metadata": {},
   "outputs": [
    {
     "name": "stdout",
     "output_type": "stream",
     "text": [
      "slot method called.\n",
      "slot method called.\n",
      "slot method called.\n",
      "slot method called.\n",
      "slot method called.\n",
      "slot method called.\n"
     ]
    },
    {
     "ename": "SystemExit",
     "evalue": "0",
     "output_type": "error",
     "traceback": [
      "An exception has occurred, use %tb to see the full traceback.\n",
      "\u001b[0;31mSystemExit\u001b[0m\u001b[0;31m:\u001b[0m 0\n"
     ]
    },
    {
     "name": "stderr",
     "output_type": "stream",
     "text": [
      "/home/mirror/anaconda3/lib/python3.7/site-packages/IPython/core/interactiveshell.py:2969: UserWarning: To exit: use 'exit', 'quit', or Ctrl-D.\n",
      "  warn(\"To exit: use 'exit', 'quit', or Ctrl-D.\", stacklevel=1)\n"
     ]
    }
   ],
   "source": [
    "from PyQt5.QtWidgets import (QApplication, QComboBox, QDialog, QDialogButtonBox, QFormLayout, QGridLayout, QGroupBox, QHBoxLayout, QLabel, QLineEdit, QMenu, QMenuBar, QSpinBox, QPushButton, QTextEdit, QVBoxLayout)\n",
    "import sys\n",
    "\n",
    "class Dialog(QDialog):\n",
    "    def slot_method(self):\n",
    "        print('slot method called.')\n",
    "    def __init__(self):\n",
    "        super(Dialog, self).__init__()\n",
    "        button = QPushButton('Click')\n",
    "        button.clicked.connect(self.slot_method)\n",
    "        \n",
    "        mainLayout = QVBoxLayout()\n",
    "        mainLayout.addWidget(button)\n",
    "        \n",
    "        self.setLayout(mainLayout)\n",
    "        self.setWindowTitle(\"Button Example\")\n",
    "        \n",
    "if __name__=='__main__':\n",
    "    app = QApplication(sys.argv)\n",
    "    dialog = Dialog()\n",
    "sys.exit(dialog.exec_())"
   ]
  },
  {
   "cell_type": "code",
   "execution_count": 1,
   "metadata": {},
   "outputs": [
    {
     "name": "stdout",
     "output_type": "stream",
     "text": [
      "No clicked.\n"
     ]
    },
    {
     "ename": "SystemExit",
     "evalue": "0",
     "output_type": "error",
     "traceback": [
      "An exception has occurred, use %tb to see the full traceback.\n",
      "\u001b[0;31mSystemExit\u001b[0m\u001b[0;31m:\u001b[0m 0\n"
     ]
    },
    {
     "name": "stderr",
     "output_type": "stream",
     "text": [
      "/home/mirror/anaconda3/lib/python3.7/site-packages/IPython/core/interactiveshell.py:2969: UserWarning: To exit: use 'exit', 'quit', or Ctrl-D.\n",
      "  warn(\"To exit: use 'exit', 'quit', or Ctrl-D.\", stacklevel=1)\n"
     ]
    }
   ],
   "source": [
    "import sys\n",
    "from PyQt5.QtWidgets import QApplication, QWidget, QMessageBox\n",
    "from PyQt5.QtGui import QIcon\n",
    "from PyQt5.QtCore import pyqtSlot\n",
    "\n",
    "class App(QWidget):\n",
    "    def __init__(self):\n",
    "        super().__init__()\n",
    "        self.title = 'PyQt5 messagebox example'\n",
    "        self.left = 10\n",
    "        self.top = 10\n",
    "        self.width = 320\n",
    "        self.height = 200\n",
    "        self.initUI()\n",
    "        \n",
    "    def initUI(self):\n",
    "        self.setWindowTitle(self.title)\n",
    "        self.setGeometry(self.left, self.top, self.width, self.height)\n",
    "        \n",
    "        buttonReply = QMessageBox.question(self, 'PyQt5 message', \"Do you like PyQt5?\", QMessageBox.Yes | QMessageBox.No, QMessageBox.No)\n",
    "        if buttonReply == QMessageBox.Yes:\n",
    "            print('Yes clicked.')\n",
    "        else:\n",
    "            print('No clicked.')\n",
    "        self.show()\n",
    "        \n",
    "if __name__ == '__main__':\n",
    "    app = QApplication(sys.argv)\n",
    "    ex = App()\n",
    "    sys.exit(app.exec_())"
   ]
  },
  {
   "cell_type": "code",
   "execution_count": 1,
   "metadata": {},
   "outputs": [
    {
     "ename": "SystemExit",
     "evalue": "0",
     "output_type": "error",
     "traceback": [
      "An exception has occurred, use %tb to see the full traceback.\n",
      "\u001b[0;31mSystemExit\u001b[0m\u001b[0;31m:\u001b[0m 0\n"
     ]
    },
    {
     "name": "stderr",
     "output_type": "stream",
     "text": [
      "/home/mirror/anaconda3/lib/python3.7/site-packages/IPython/core/interactiveshell.py:2969: UserWarning: To exit: use 'exit', 'quit', or Ctrl-D.\n",
      "  warn(\"To exit: use 'exit', 'quit', or Ctrl-D.\", stacklevel=1)\n"
     ]
    }
   ],
   "source": [
    "import sys\n",
    "from PyQt5.QtWidgets import QMainWindow, QApplication, QWidget, QPushButton, QAction, QLineEdit, QMessageBox\n",
    "from PyQt5.QtGui import QIcon\n",
    "from PyQt5.QtCore import pyqtSlot\n",
    "\n",
    "class App(QMainWindow):\n",
    "    def __init__(self):\n",
    "        super().__init__()\n",
    "        self.title = 'PyQt5 textbox example'\n",
    "        self.left = 10\n",
    "        self.top = 10\n",
    "        self.width = 400\n",
    "        self.height = 140\n",
    "        self.initUI()\n",
    "        \n",
    "    def initUI(self):\n",
    "        self.setWindowTitle(self.title)\n",
    "        self.setGeometry(self.left, self.top, self.width, self.height)\n",
    "        \n",
    "        # TextBox\n",
    "        self.textbox = QLineEdit(self)\n",
    "        self.textbox.move(20,20)\n",
    "        self.textbox.resize(280,40)\n",
    "        \n",
    "        # Button in the window\n",
    "        self.button = QPushButton('Show text', self)\n",
    "        self.button.move(20,80)\n",
    "        \n",
    "        #connect button to function on click event\n",
    "        self.button.clicked.connect(self.on_click)\n",
    "        self.show()\n",
    "        \n",
    "    @pyqtSlot()\n",
    "    def on_click(self):\n",
    "        texboxValue = self.textbox.text()\n",
    "        QMessageBox.question(self, 'Message :- ', \"You typed: \"+ texboxValue, QMessageBox.Ok, QMessageBox.Ok)\n",
    "        self.textbox.setText(\"\")\n",
    "        \n",
    "if __name__=='__main__':\n",
    "    app = QApplication(sys.argv)\n",
    "    ex = App()\n",
    "    sys.exit(app.exec_())"
   ]
  },
  {
   "cell_type": "code",
   "execution_count": 1,
   "metadata": {},
   "outputs": [
    {
     "ename": "SystemExit",
     "evalue": "0",
     "output_type": "error",
     "traceback": [
      "An exception has occurred, use %tb to see the full traceback.\n",
      "\u001b[0;31mSystemExit\u001b[0m\u001b[0;31m:\u001b[0m 0\n"
     ]
    },
    {
     "name": "stderr",
     "output_type": "stream",
     "text": [
      "/home/mirror/anaconda3/lib/python3.7/site-packages/IPython/core/interactiveshell.py:2969: UserWarning: To exit: use 'exit', 'quit', or Ctrl-D.\n",
      "  warn(\"To exit: use 'exit', 'quit', or Ctrl-D.\", stacklevel=1)\n"
     ]
    }
   ],
   "source": [
    "import sys\n",
    "from PyQt5.QtWidgets import QApplication, QWidget, QMainWindow, QLabel\n",
    "from PyQt5.QtGui import QIcon\n",
    "\n",
    "class App(QMainWindow):\n",
    "    def __init__(self):\n",
    "        super().__init__()\n",
    "        self.title = 'PyQt absolute positioning'\n",
    "        self.left = 10\n",
    "        self.top = 10\n",
    "        self.width = 440\n",
    "        self.height = 280\n",
    "        self.initUI()\n",
    "    def initUI(self):\n",
    "        self.setWindowTitle(self.title)\n",
    "        self.setGeometry(self.left, self.top, self.width, self.height)\n",
    "        \n",
    "        label = QLabel('Python',self)\n",
    "        label.move(50,50)\n",
    "        \n",
    "        label2 = QLabel('PyQt5', self)\n",
    "        label2.move(100,100)\n",
    "        \n",
    "        label3 = QLabel('Examples', self)\n",
    "        label3.move(150,150)\n",
    "        \n",
    "        label4 = QLabel('Malkhan', self)\n",
    "        label4.move(200,200)\n",
    "        \n",
    "        self.show()\n",
    "if __name__=='__main__':\n",
    "    app = QApplication(sys.argv)\n",
    "    ex = App()\n",
    "    sys.exit(app.exec_())"
   ]
  },
  {
   "cell_type": "code",
   "execution_count": 1,
   "metadata": {},
   "outputs": [
    {
     "ename": "SystemExit",
     "evalue": "0",
     "output_type": "error",
     "traceback": [
      "An exception has occurred, use %tb to see the full traceback.\n",
      "\u001b[0;31mSystemExit\u001b[0m\u001b[0;31m:\u001b[0m 0\n"
     ]
    },
    {
     "name": "stderr",
     "output_type": "stream",
     "text": [
      "/home/mirror/anaconda3/lib/python3.7/site-packages/IPython/core/interactiveshell.py:2969: UserWarning: To exit: use 'exit', 'quit', or Ctrl-D.\n",
      "  warn(\"To exit: use 'exit', 'quit', or Ctrl-D.\", stacklevel=1)\n"
     ]
    }
   ],
   "source": [
    "import sys\n",
    "from PyQt5.QtWidgets import QMainWindow, QApplication,QLabel,QPushButton, QWidget, QAction, QTableWidget, QTableWidgetItem, QVBoxLayout\n",
    "from PyQt5.QtGui import QIcon\n",
    "from PyQt5.QtCore import pyqtSlot\n",
    "\n",
    "class App(QWidget):\n",
    "    def __init__(self):\n",
    "        super().__init__()\n",
    "        self.title = 'PyQt5 table Sudoku'\n",
    "        self.left = 0\n",
    "        self.top = 0\n",
    "        self.width = 400\n",
    "        self.height = 400\n",
    "        self.initUI()\n",
    "\n",
    "    def initUI(self):\n",
    "        self.setWindowTitle(self.title)\n",
    "        self.setGeometry(self.left, self.top, self.width, self.height)\n",
    "        # Add Label\n",
    "        \n",
    "        self.createTable()\n",
    "        \n",
    "        # Add Push button\n",
    "        \n",
    "        self.layout = QVBoxLayout()\n",
    "        self.layout.addWidget(self.label)\n",
    "        self.layout.addWidget(self.tableWidget)\n",
    "        self.layout.addWidget(self.button)\n",
    "        self.setLayout(self.layout)\n",
    "\n",
    "        self.show()\n",
    "    @pyqtSlot()\n",
    "    def on_submit(self):\n",
    "        def print_grid(arr):\n",
    "            for i in range(9):\n",
    "                for j in range(9):\n",
    "                    self.tableWidget.setItem(i,j, QTableWidgetItem(str(arr[i][j])))\n",
    "                    print(arr[i][j])\n",
    "                \n",
    "\n",
    "        def find_empty_location(arr,l):\n",
    "            for row in range(9):\n",
    "                for col in range(9):\n",
    "                    if arr[row][col] == 0:\n",
    "                        l[0]=row\n",
    "                        l[1]=col\n",
    "                        return True\n",
    "            return False\n",
    "\n",
    "        def used_in_row(arr,row,num):\n",
    "            for i in range(9):\n",
    "                if arr[row][i] == num:\n",
    "                    return True\n",
    "            return False\n",
    "\n",
    "        def used_in_col(arr,col,num):\n",
    "            for i in range(9):\n",
    "                if arr[i][col] == num:\n",
    "                    return True\n",
    "            return False\n",
    "\n",
    "        def used_in_box(arr,row,col,num):\n",
    "            for i in range(3):\n",
    "                for j in range(3):\n",
    "                    if arr[i+row][j+col] == num:\n",
    "                        return True\n",
    "            return False\n",
    "\n",
    "        def check_location_is_safe(arr,row,col,num):\n",
    "            return not used_in_box(arr,row-row%3,col-col%3,num) and not used_in_col(arr,col,num) and not used_in_row(arr,row,num)\n",
    "\n",
    "        def solve_sudoku(arr):\n",
    "            l = [0,0]\n",
    "\n",
    "            if not find_empty_location(arr,l):\n",
    "                return True\n",
    "\n",
    "            row = l[0]\n",
    "            col = l[1]\n",
    "\n",
    "            for num in range(1,10):\n",
    "                if check_location_is_safe(arr,row,col,num):\n",
    "                    arr[row][col]=num\n",
    "\n",
    "                    if solve_sudoku(arr):\n",
    "                        return True\n",
    "                    arr[row][col] = 0\n",
    "\n",
    "            return False\n",
    "\n",
    "        box = []\n",
    "        for i in range(9):\n",
    "            sub_box = []\n",
    "            for j in range(9):\n",
    "                if self.tableWidget.item(i,j).text():\n",
    "                    sub_box.append(int(self.tableWidget.item(i,j).text()))\n",
    "                else:\n",
    "                    sub_box.append(0)\n",
    "            box.append(sub_box)\n",
    "        grid = [[3,1,6,5,0,8,4,0,0],[5,2,0,0,0,0,0,0,0],[0,8,7,0,0,0,0,3,1],[0,0,3,0,1,0,0,8,0],[9,0,0,8,6,3,0,0,5],[0,5,0,0,9,0,6,0,0],[1,3,0,0,0,0,2,5,0],[0,0,0,0,0,0,0,7,4],[0,0,5,2,0,6,3,0,0]]\n",
    "        if solve_sudoku(list(grid)):\n",
    "            print_grid(grid)\n",
    "        \n",
    "        for i in range(9):\n",
    "            for j in range(9):\n",
    "                self.tableWidget.setItem(i,j, QTableWidgetItem(str(box[i][j])))\n",
    "        \n",
    "    def createTable(self):\n",
    "        self.tableWidget = QTableWidget()\n",
    "        self.label = QLabel('Sudoku')\n",
    "        self.label.move(0,0)\n",
    "        self.tableWidget.setRowCount(9)\n",
    "        self.tableWidget.setColumnCount(9)\n",
    "        self.tableWidget.resize(400,400)\n",
    "        self.tableWidget.resizeColumnsToContents()\n",
    "        for i in range(9):\n",
    "            for j in range(9):\n",
    "                self.tableWidget.setItem(i,j, QTableWidgetItem(i))\n",
    "        self.tableWidget.move(0,0)\n",
    "        \n",
    "        self.button = QPushButton('Solve')\n",
    "        self.button.move(0,0)\n",
    "        \n",
    "        self.button.clicked.connect(self.on_submit)\n",
    "        \n",
    "\n",
    "        \n",
    "if __name__ == '__main__':\n",
    "    app = QApplication(sys.argv)\n",
    "    ex = App()\n",
    "    sys.exit(app.exec())"
   ]
  },
  {
   "cell_type": "code",
   "execution_count": 2,
   "metadata": {},
   "outputs": [
    {
     "name": "stdout",
     "output_type": "stream",
     "text": [
      "[[3, 1, 6, 5, 7, 8, 4, 9, 2], [5, 2, 9, 1, 3, 4, 7, 6, 8], [4, 8, 7, 6, 2, 9, 5, 3, 1], [2, 6, 3, 4, 1, 5, 9, 8, 7], [9, 7, 4, 8, 6, 3, 1, 2, 5], [8, 5, 1, 7, 9, 2, 6, 4, 3], [1, 3, 8, 9, 4, 7, 2, 5, 6], [6, 9, 2, 3, 5, 1, 8, 7, 4], [7, 4, 5, 2, 8, 6, 3, 1, 9]]\n"
     ]
    }
   ],
   "source": [
    "def print_grid(arr):\n",
    "    for i in range(9):\n",
    "        for j in range(9):\n",
    "            print(arr[i][j])\n",
    "        print('\\n')\n",
    "\n",
    "def find_empty_location(arr,l):\n",
    "    for row in range(9):\n",
    "        for col in range(9):\n",
    "            if arr[row][col] == 0:\n",
    "                l[0]=row\n",
    "                l[1]=col\n",
    "                return True\n",
    "    return False\n",
    "\n",
    "def used_in_row(arr,row,num):\n",
    "    for i in range(9):\n",
    "        if arr[row][i] == num:\n",
    "            return True\n",
    "    return False\n",
    "\n",
    "def used_in_col(arr,col,num):\n",
    "    for i in range(9):\n",
    "        if arr[i][col] == num:\n",
    "            return True\n",
    "    return False\n",
    "\n",
    "def used_in_box(arr,row,col,num):\n",
    "    for i in range(3):\n",
    "        for j in range(3):\n",
    "            if arr[i+row][j+col] == num:\n",
    "                return True\n",
    "    return False\n",
    "\n",
    "def check_location_is_safe(arr,row,col,num):\n",
    "    return not used_in_box(arr,row-row%3,col-col%3,num) and not used_in_col(arr,col,num) and not used_in_row(arr,row,num)\n",
    "\n",
    "def solve_sudoku(arr):\n",
    "    l = [0,0]\n",
    "\n",
    "    if not find_empty_location(arr,l):\n",
    "        return True\n",
    "\n",
    "    row = l[0]\n",
    "    col = l[1]\n",
    "\n",
    "    for num in range(1,10):\n",
    "        if check_location_is_safe(arr,row,col,num):\n",
    "            arr[row][col]=num\n",
    "\n",
    "            if solve_sudoku(arr):\n",
    "                return True\n",
    "            arr[row][col] = 0\n",
    "\n",
    "    return False\n",
    "\n",
    "def print_grid(arr):\n",
    "    print(arr)\n",
    "    # for i in range(9):\n",
    "    # \tfor j in range(9):\n",
    "    # \t\tprint(arr[i][j])\n",
    "    # print('\\n')\n",
    "\n",
    "if __name__ == '__main__':\n",
    "\n",
    "    # grid = [[0 for x in range(9)] for y in range(9)]\n",
    "    grid = [[3,1,6,5,0,8,4,0,0],[5,2,0,0,0,0,0,0,0],[0,8,7,0,0,0,0,3,1],[0,0,3,0,1,0,0,8,0],[9,0,0,8,6,3,0,0,5],[0,5,0,0,9,0,6,0,0],[1,3,0,0,0,0,2,5,0],[0,0,0,0,0,0,0,7,4],[0,0,5,2,0,6,3,0,0]]\n",
    "\n",
    "    if(solve_sudoku(list(grid))):\n",
    "        print_grid(grid)\n",
    "    else:\n",
    "        print(\"No Solution Exists.\")"
   ]
  },
  {
   "cell_type": "code",
   "execution_count": null,
   "metadata": {},
   "outputs": [],
   "source": []
  }
 ],
 "metadata": {
  "kernelspec": {
   "display_name": "Python 3",
   "language": "python",
   "name": "python3"
  },
  "language_info": {
   "codemirror_mode": {
    "name": "ipython",
    "version": 3
   },
   "file_extension": ".py",
   "mimetype": "text/x-python",
   "name": "python",
   "nbconvert_exporter": "python",
   "pygments_lexer": "ipython3",
   "version": "3.7.0"
  }
 },
 "nbformat": 4,
 "nbformat_minor": 2
}
